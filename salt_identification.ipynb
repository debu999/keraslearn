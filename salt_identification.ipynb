{
  "nbformat": 4,
  "nbformat_minor": 0,
  "metadata": {
    "colab": {
      "name": "salt_identification.ipynb",
      "version": "0.3.2",
      "provenance": [],
      "collapsed_sections": [],
      "include_colab_link": true
    },
    "kernelspec": {
      "name": "python3",
      "display_name": "Python 3"
    },
    "accelerator": "GPU"
  },
  "cells": [
    {
      "cell_type": "markdown",
      "metadata": {
        "id": "view-in-github",
        "colab_type": "text"
      },
      "source": [
        "[View in Colaboratory](https://colab.research.google.com/github/debu999/keraslearn/blob/master/salt_identification.ipynb)"
      ]
    },
    {
      "metadata": {
        "id": "yf-nFF3JfHig",
        "colab_type": "code",
        "colab": {
          "base_uri": "https://localhost:8080/",
          "height": 793
        },
        "outputId": "afdb318d-4d3e-4758-c030-7f461718f87a"
      },
      "cell_type": "code",
      "source": [
        "#Download Dependencies\n",
        "!pip install imageio\n",
        "!pip install torch\n",
        "!pip install kaggle\n",
        "#!pip install pywidgets"
      ],
      "execution_count": 5,
      "outputs": [
        {
          "output_type": "stream",
          "text": [
            "Collecting imageio\n",
            "\u001b[?25l  Downloading https://files.pythonhosted.org/packages/28/b4/cbb592964dfd71a9de6a5b08f882fd334fb99ae09ddc82081dbb2f718c81/imageio-2.4.1.tar.gz (3.3MB)\n",
            "\u001b[K    100% |████████████████████████████████| 3.3MB 940kB/s \n",
            "\u001b[?25hRequirement already satisfied: numpy in /usr/local/lib/python3.6/dist-packages (from imageio) (1.14.5)\n",
            "Requirement already satisfied: pillow in /usr/local/lib/python3.6/dist-packages (from imageio) (4.0.0)\n",
            "Requirement already satisfied: olefile in /usr/local/lib/python3.6/dist-packages (from pillow->imageio) (0.46)\n",
            "Building wheels for collected packages: imageio\n",
            "  Running setup.py bdist_wheel for imageio ... \u001b[?25l-\b \b\\\b \b|\b \bdone\n",
            "\u001b[?25h  Stored in directory: /root/.cache/pip/wheels/e0/43/31/605de9372ceaf657f152d3d5e82f42cf265d81db8bbe63cde1\n",
            "Successfully built imageio\n",
            "Installing collected packages: imageio\n",
            "Successfully installed imageio-2.4.1\n",
            "Collecting torch\n",
            "\u001b[?25l  Downloading https://files.pythonhosted.org/packages/49/0e/e382bcf1a6ae8225f50b99cc26effa2d4cc6d66975ccf3fa9590efcbedce/torch-0.4.1-cp36-cp36m-manylinux1_x86_64.whl (519.5MB)\n",
            "\u001b[K    100% |████████████████████████████████| 519.5MB 30kB/s \n",
            "tcmalloc: large alloc 1073750016 bytes == 0x58df4000 @  0x7fd5f43211c4 0x46d6a4 0x5fcbcc 0x4c494d 0x54f3c4 0x553aaf 0x54e4c8 0x54f4f6 0x553aaf 0x54efc1 0x54f24d 0x553aaf 0x54efc1 0x54f24d 0x553aaf 0x54efc1 0x54f24d 0x551ee0 0x54e4c8 0x54f4f6 0x553aaf 0x54efc1 0x54f24d 0x551ee0 0x54efc1 0x54f24d 0x551ee0 0x54e4c8 0x54f4f6 0x553aaf 0x54e4c8\n",
            "\u001b[?25hInstalling collected packages: torch\n",
            "Successfully installed torch-0.4.1\n",
            "Collecting kaggle\n",
            "\u001b[?25l  Downloading https://files.pythonhosted.org/packages/c6/78/832b9a9ec6b3baf8ec566e1f0a695f2fd08d2c94a6797257a106304bfc3c/kaggle-1.4.7.1.tar.gz (52kB)\n",
            "\u001b[K    100% |████████████████████████████████| 61kB 3.9MB/s \n",
            "\u001b[?25hRequirement already satisfied: urllib3<1.23.0,>=1.15 in /usr/local/lib/python3.6/dist-packages (from kaggle) (1.22)\n",
            "Requirement already satisfied: six>=1.10 in /usr/local/lib/python3.6/dist-packages (from kaggle) (1.11.0)\n",
            "Requirement already satisfied: certifi in /usr/local/lib/python3.6/dist-packages (from kaggle) (2018.8.24)\n",
            "Requirement already satisfied: python-dateutil in /usr/local/lib/python3.6/dist-packages (from kaggle) (2.5.3)\n",
            "Requirement already satisfied: requests in /usr/local/lib/python3.6/dist-packages (from kaggle) (2.18.4)\n",
            "Requirement already satisfied: tqdm in /usr/local/lib/python3.6/dist-packages (from kaggle) (4.25.0)\n",
            "Collecting python-slugify (from kaggle)\n",
            "  Downloading https://files.pythonhosted.org/packages/00/ad/c778a6df614b6217c30fe80045b365bfa08b5dd3cb02e8b37a6d25126781/python-slugify-1.2.6.tar.gz\n",
            "Requirement already satisfied: chardet<3.1.0,>=3.0.2 in /usr/local/lib/python3.6/dist-packages (from requests->kaggle) (3.0.4)\n",
            "Requirement already satisfied: idna<2.7,>=2.5 in /usr/local/lib/python3.6/dist-packages (from requests->kaggle) (2.6)\n",
            "Collecting Unidecode>=0.04.16 (from python-slugify->kaggle)\n",
            "\u001b[?25l  Downloading https://files.pythonhosted.org/packages/59/ef/67085e30e8bbcdd76e2f0a4ad8151c13a2c5bce77c85f8cad6e1f16fb141/Unidecode-1.0.22-py2.py3-none-any.whl (235kB)\n",
            "\u001b[K    100% |████████████████████████████████| 235kB 7.6MB/s \n",
            "\u001b[?25hBuilding wheels for collected packages: kaggle, python-slugify\n",
            "  Running setup.py bdist_wheel for kaggle ... \u001b[?25l-\b \b\\\b \bdone\n",
            "\u001b[?25h  Stored in directory: /root/.cache/pip/wheels/44/2c/df/22a6eeb780c36c28190faef6252b739fdc47145fd87a6642d4\n",
            "  Running setup.py bdist_wheel for python-slugify ... \u001b[?25l-\b \bdone\n",
            "\u001b[?25h  Stored in directory: /root/.cache/pip/wheels/e3/65/da/2045deea3098ed7471eca0e2460cfbd3fdfe8c1d6fa6fcac92\n",
            "Successfully built kaggle python-slugify\n",
            "Installing collected packages: Unidecode, python-slugify, kaggle\n",
            "Successfully installed Unidecode-1.0.22 kaggle-1.4.7.1 python-slugify-1.2.6\n"
          ],
          "name": "stdout"
        }
      ]
    },
    {
      "metadata": {
        "id": "MAXlnLqIfygC",
        "colab_type": "code",
        "colab": {}
      },
      "cell_type": "code",
      "source": [
        "#import dependencies\n",
        "import os\n",
        "import numpy as np\n",
        "import pandas as pd\n",
        "import platform\n",
        "from pprint import pprint as pp\n",
        "import imageio\n",
        "import matplotlib.pyplot as plt\n",
        "import torch\n",
        "from torch.utils import data\n"
      ],
      "execution_count": 0,
      "outputs": []
    },
    {
      "metadata": {
        "id": "InVdE5O4gzlw",
        "colab_type": "code",
        "colab": {
          "base_uri": "https://localhost:8080/",
          "height": 89
        },
        "outputId": "6e746486-e293-4474-d2e5-8ca7b8b1cd7b"
      },
      "cell_type": "code",
      "source": [
        "pp([platform.architecture(), platform.platform(), platform.processor(), platform.system()])"
      ],
      "execution_count": 11,
      "outputs": [
        {
          "output_type": "stream",
          "text": [
            "[('64bit', ''),\n",
            " 'Linux-4.14.33+-x86_64-with-Ubuntu-17.10-artful',\n",
            " 'x86_64',\n",
            " 'Linux']\n"
          ],
          "name": "stdout"
        }
      ]
    },
    {
      "metadata": {
        "id": "FVpnBxlVcLAi",
        "colab_type": "code",
        "colab": {
          "base_uri": "https://localhost:8080/",
          "height": 35
        },
        "outputId": "b35c5ad8-0ff1-4fbf-85b4-5a55acb61606"
      },
      "cell_type": "code",
      "source": [
        "import tensorflow as tf\n",
        "device_name = tf.test.gpu_device_name()\n",
        "if device_name != '/device:GPU:0':\n",
        "  raise SystemError('GPU device not found')\n",
        "print('Found GPU at: {}'.format(device_name))"
      ],
      "execution_count": 8,
      "outputs": [
        {
          "output_type": "stream",
          "text": [
            "Found GPU at: /device:GPU:0\n"
          ],
          "name": "stdout"
        }
      ]
    },
    {
      "metadata": {
        "id": "2MM4n9Ijg1Jh",
        "colab_type": "code",
        "colab": {
          "resources": {
            "http://localhost:8080/nbextensions/google.colab/files.js": {
              "data": "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",
              "ok": true,
              "headers": [
                [
                  "content-type",
                  "application/javascript"
                ]
              ],
              "status": 200,
              "status_text": ""
            }
          },
          "base_uri": "https://localhost:8080/",
          "height": 56
        },
        "outputId": "4544400e-c192-4c05-e109-4ee8ee637d34"
      },
      "cell_type": "code",
      "source": [
        "#upload the kaggle credentials\n",
        "from google.colab import files\n",
        "files.upload()"
      ],
      "execution_count": 11,
      "outputs": [
        {
          "output_type": "display_data",
          "data": {
            "text/html": [
              "\n",
              "     <input type=\"file\" id=\"files-8c89a6b2-2516-49c0-be31-3dc1e551c7dc\" name=\"files[]\" multiple disabled />\n",
              "     <output id=\"result-8c89a6b2-2516-49c0-be31-3dc1e551c7dc\">\n",
              "      Upload widget is only available when the cell has been executed in the\n",
              "      current browser session. Please rerun this cell to enable.\n",
              "      </output>\n",
              "      <script src=\"/nbextensions/google.colab/files.js\"></script> "
            ],
            "text/plain": [
              "<IPython.core.display.HTML object>"
            ]
          },
          "metadata": {
            "tags": []
          }
        },
        {
          "output_type": "execute_result",
          "data": {
            "text/plain": [
              "{}"
            ]
          },
          "metadata": {
            "tags": []
          },
          "execution_count": 11
        }
      ]
    },
    {
      "metadata": {
        "id": "sg1bNqsBiUDB",
        "colab_type": "code",
        "colab": {
          "base_uri": "https://localhost:8080/",
          "height": 35
        },
        "outputId": "6cfbf9e2-f179-422b-c05b-abb10094b5b2"
      },
      "cell_type": "code",
      "source": [
        "#is it there?\n",
        "ls -lrt kaggle*"
      ],
      "execution_count": 12,
      "outputs": [
        {
          "output_type": "stream",
          "text": [
            "-rw-r--r-- 1 root root 62 Sep 13 14:58 kaggle.json\n"
          ],
          "name": "stdout"
        }
      ]
    },
    {
      "metadata": {
        "id": "KDc9GYawi95A",
        "colab_type": "code",
        "colab": {
          "base_uri": "https://localhost:8080/",
          "height": 53
        },
        "outputId": "6ae19eb5-66f2-404a-be1d-5e5f7ce0aff5"
      },
      "cell_type": "code",
      "source": [
        "#create kaggle folder whoami is root\n",
        "!rm -rfv ~/.kaggle\n",
        "!mkdir -pv ~/.kaggle\n",
        "!cp -v kaggle.json ~/.kaggle\n",
        "!chmod 600 ~/.kaggle/kaggle.json"
      ],
      "execution_count": 13,
      "outputs": [
        {
          "output_type": "stream",
          "text": [
            "mkdir: created directory '/root/.kaggle'\n",
            "'kaggle.json' -> '/root/.kaggle/kaggle.json'\n"
          ],
          "name": "stdout"
        }
      ]
    },
    {
      "metadata": {
        "id": "Twg_olIZi_k4",
        "colab_type": "code",
        "colab": {
          "base_uri": "https://localhost:8080/",
          "height": 287
        },
        "outputId": "9687826e-5d2b-475b-af5b-6444af6b08bb"
      },
      "cell_type": "code",
      "source": [
        "#Download our Dataset\n",
        "import sys\n",
        "from kaggle import cli\n",
        "\"\"\"If you have not joined the competition it will send 403 error.\n",
        "Please join the competition.\"\"\"\n",
        "\n",
        "\"\"\"--force is to force download the file even if its already downloded.\"\"\"\n",
        "sys.argv = 'kaggle competitions download -c tgs-salt-identification-challenge --force'.split()\n",
        "\n",
        "\"\"\"calling kaggle cli to get the files using credentials from ~/.kaggle/kaggle.json\"\"\"\n",
        "cli.main()\n",
        "# !kaggle competitions download -c tgs-salt-identification-challenge "
      ],
      "execution_count": 14,
      "outputs": [
        {
          "output_type": "stream",
          "text": [
            "100%|██████████| 322k/322k [00:00<00:00, 39.2MB/s]"
          ],
          "name": "stderr"
        },
        {
          "output_type": "stream",
          "text": [
            "Downloading depths.csv to /content\n",
            "\n"
          ],
          "name": "stdout"
        },
        {
          "output_type": "stream",
          "text": [
            "\n",
            "100%|██████████| 264k/264k [00:00<00:00, 47.1MB/s]"
          ],
          "name": "stderr"
        },
        {
          "output_type": "stream",
          "text": [
            "Downloading sample_submission.csv to /content\n",
            "\n"
          ],
          "name": "stdout"
        },
        {
          "output_type": "stream",
          "text": [
            "\n",
            "100%|██████████| 922k/922k [00:00<00:00, 92.2MB/s]"
          ],
          "name": "stderr"
        },
        {
          "output_type": "stream",
          "text": [
            "Downloading train.csv to /content\n",
            "\n"
          ],
          "name": "stdout"
        },
        {
          "output_type": "stream",
          "text": [
            "\n",
            "  0%|          | 0.00/163M [00:00<?, ?B/s]"
          ],
          "name": "stderr"
        },
        {
          "output_type": "stream",
          "text": [
            "Downloading test.zip to /content\n"
          ],
          "name": "stdout"
        },
        {
          "output_type": "stream",
          "text": [
            "100%|██████████| 163M/163M [00:01<00:00, 125MB/s]\n"
          ],
          "name": "stderr"
        },
        {
          "output_type": "stream",
          "text": [
            "\n"
          ],
          "name": "stdout"
        },
        {
          "output_type": "stream",
          "text": [
            " 13%|█▎        | 5.00M/37.9M [00:00<00:00, 46.7MB/s]"
          ],
          "name": "stderr"
        },
        {
          "output_type": "stream",
          "text": [
            "Downloading train.zip to /content\n"
          ],
          "name": "stdout"
        },
        {
          "output_type": "stream",
          "text": [
            "100%|██████████| 37.9M/37.9M [00:00<00:00, 97.5MB/s]"
          ],
          "name": "stderr"
        },
        {
          "output_type": "stream",
          "text": [
            "\n"
          ],
          "name": "stdout"
        },
        {
          "output_type": "stream",
          "text": [
            "\n"
          ],
          "name": "stderr"
        }
      ]
    },
    {
      "metadata": {
        "id": "tviFsBR8jJxh",
        "colab_type": "code",
        "colab": {
          "base_uri": "https://localhost:8080/",
          "height": 197
        },
        "outputId": "c88a520c-a1dd-47e4-c8ac-084b9e5b8073"
      },
      "cell_type": "code",
      "source": [
        "!ls -lrt /root/.kaggle/\n",
        "!ls -lrt"
      ],
      "execution_count": 15,
      "outputs": [
        {
          "output_type": "stream",
          "text": [
            "total 4\n",
            "-rw------- 1 root root 62 Sep 13 14:59 kaggle.json\n",
            "total 207600\n",
            "drwxr-xr-x 2 root root      4096 Sep 11 17:54 sample_data\n",
            "-rw-r--r-- 1 root root        62 Sep 13 14:58 kaggle.json\n",
            "-rw-r--r-- 1 root root    329525 Sep 13 14:59 depths.csv\n",
            "-rw-r--r-- 1 root root    270012 Sep 13 14:59 sample_submission.csv\n",
            "-rw-r--r-- 1 root root    943702 Sep 13 14:59 train.csv\n",
            "-rw-r--r-- 1 root root 171262199 Sep 13 14:59 test.zip\n",
            "-rw-r--r-- 1 root root  39757560 Sep 13 14:59 train.zip\n"
          ],
          "name": "stdout"
        }
      ]
    },
    {
      "metadata": {
        "id": "l6YHX4sKkydv",
        "colab_type": "code",
        "colab": {}
      },
      "cell_type": "code",
      "source": [
        "#Unzip\n",
        "!unzip -qq train.zip "
      ],
      "execution_count": 0,
      "outputs": []
    },
    {
      "metadata": {
        "id": "ufiFX158IE88",
        "colab_type": "code",
        "colab": {
          "base_uri": "https://localhost:8080/",
          "height": 197
        },
        "outputId": "8f7b7910-d44d-406b-c76f-8ee54e5841c7"
      },
      "cell_type": "code",
      "source": [
        "os.path.curdir\n",
        "!ls -lrt"
      ],
      "execution_count": 24,
      "outputs": [
        {
          "output_type": "stream",
          "text": [
            "total 207884\n",
            "drwxr-xr-x 2 root root    143360 Jul 16 19:26 masks\n",
            "drwxr-xr-x 2 root root    143360 Jul 16 19:26 images\n",
            "drwxr-xr-x 2 root root      4096 Sep 11 17:54 sample_data\n",
            "-rw-r--r-- 1 root root        62 Sep 13 14:58 kaggle.json\n",
            "-rw-r--r-- 1 root root    329525 Sep 13 14:59 depths.csv\n",
            "-rw-r--r-- 1 root root    270012 Sep 13 14:59 sample_submission.csv\n",
            "-rw-r--r-- 1 root root    943702 Sep 13 14:59 train.csv\n",
            "-rw-r--r-- 1 root root 171262199 Sep 13 14:59 test.zip\n",
            "-rw-r--r-- 1 root root  39757560 Sep 13 14:59 train.zip\n"
          ],
          "name": "stdout"
        }
      ]
    },
    {
      "metadata": {
        "id": "iOcGi1BSluh0",
        "colab_type": "code",
        "colab": {}
      },
      "cell_type": "code",
      "source": [
        "#Lets create a class to hold our dataset\n",
        "import os\n",
        "import numpy as np\n",
        "\n",
        "class TGSSaltDataset(data.Dataset):\n",
        "  def __init__(self, root_path, file_list):\n",
        "    self.root_path = root_path\n",
        "    self.file_list = file_list\n",
        "    \n",
        "  def __len__(self):\n",
        "    return len(self.file_list)\n",
        "  \n",
        "  def __getitem__(self, index):\n",
        "    file_id = self.file_list[index]\n",
        "    #image folder + path\n",
        "    image_folder = os.path.join(self.root_path, \"images\")\n",
        "    image_path = os.path.join(image_folder, \".\".join([file_id, \"png\"]))\n",
        "    \n",
        "    #mask folder + path\n",
        "    mask_folder = os.path.join(self.root_path, \"masks\")\n",
        "    mask_path = os.path.join(mask_folder, \".\".join([file_id, \"png\"]))\n",
        "    \n",
        "    #read the data\n",
        "    image = np.array(imageio.imread(image_path), dtype=np.uint8)\n",
        "    mask = np.array(imageio.imread(mask_path), dtype=np.uint8)\n",
        "#     print(image_path, mask_path)\n",
        "    return image, mask\n",
        "  \n",
        "  "
      ],
      "execution_count": 0,
      "outputs": []
    },
    {
      "metadata": {
        "id": "2x61o295nAet",
        "colab_type": "code",
        "colab": {}
      },
      "cell_type": "code",
      "source": [
        "#initialise by adding the data to the platform\n",
        "train_mask = pd.read_csv(\"train.csv\")\n",
        "depth = pd.read_csv(\"depths.csv\")\n",
        "train_path = os.getcwd()\n",
        "file_list = list(train_mask.id.values)\n",
        "dataset = TGSSaltDataset(train_path, file_list)\n"
      ],
      "execution_count": 0,
      "outputs": []
    },
    {
      "metadata": {
        "id": "7uQs00srqJGE",
        "colab_type": "code",
        "colab": {}
      },
      "cell_type": "code",
      "source": [
        "#Function to visualize the images\n",
        "def plot2x2array(image, mask):\n",
        "  #plot matplotlib plots to visualize data\n",
        "  f, arr = plt.subplots(1, 2)\n",
        "  arr[0].imshow(image)\n",
        "  arr[1].imshow(mask)\n",
        "  arr[0].grid()\n",
        "  arr[1].grid()\n",
        "  arr[0].set_title(\"Image\")\n",
        "  arr[1].set_title(\"Mask\")\n",
        "  \n",
        "\n",
        "  \n",
        "  "
      ],
      "execution_count": 0,
      "outputs": []
    },
    {
      "metadata": {
        "id": "QBc7dis9rKej",
        "colab_type": "code",
        "colab": {
          "base_uri": "https://localhost:8080/",
          "height": 1262
        },
        "outputId": "8e074333-ec7e-4236-91ca-d34006f73edb"
      },
      "cell_type": "code",
      "source": [
        "#print the images\n",
        "\n",
        "for i in range(5):\n",
        "  image, mask = dataset[np.random.randint(0, len(dataset))]\n",
        "  plot2x2array(image, mask=mask)"
      ],
      "execution_count": 29,
      "outputs": [
        {
          "output_type": "display_data",
          "data": {
            "image/png": "[encoded data removed]",
            "text/plain": [
              "<matplotlib.figure.Figure at 0x7fdbf5022da0>"
            ]
          },
          "metadata": {
            "tags": []
          }
        },
        {
          "output_type": "display_data",
          "data": {
            "image/png": "[encoded data removed]",
            "text/plain": [
              "<matplotlib.figure.Figure at 0x7fdbf0652f60>"
            ]
          },
          "metadata": {
            "tags": []
          }
        },
        {
          "output_type": "display_data",
          "data": {
            "image/png": "[encoded data removed]",
            "text/plain": [
              "<matplotlib.figure.Figure at 0x7fdbf05cec18>"
            ]
          },
          "metadata": {
            "tags": []
          }
        },
        {
          "output_type": "display_data",
          "data": {
            "image/png": "[encoded data removed]",
            "text/plain": [
              "<matplotlib.figure.Figure at 0x7fdbf05480f0>"
            ]
          },
          "metadata": {
            "tags": []
          }
        },
        {
          "output_type": "display_data",
          "data": {
            "image/png": "[encoded data removed]",
            "text/plain": [
              "<matplotlib.figure.Figure at 0x7fdbf04bbe48>"
            ]
          },
          "metadata": {
            "tags": []
          }
        }
      ]
    },
    {
      "metadata": {
        "id": "hmE2YA9iruB6",
        "colab_type": "code",
        "colab": {
          "base_uri": "https://localhost:8080/",
          "height": 407
        },
        "outputId": "91f20cc9-8629-484b-cf48-0a7e07b3cca1"
      },
      "cell_type": "code",
      "source": [
        "#plot distribution of depths\n",
        "plt.figure(figsize=(6,6))\n",
        "plt.hist(depth.z, bins=50, color=\"green\", edgecolor='black', linewidth=1.2)\n",
        "plt.title(\"Depth Distribution\")"
      ],
      "execution_count": 30,
      "outputs": [
        {
          "output_type": "execute_result",
          "data": {
            "text/plain": [
              "Text(0.5,1,'Depth Distribution')"
            ]
          },
          "metadata": {
            "tags": []
          },
          "execution_count": 30
        },
        {
          "output_type": "display_data",
          "data": {
            "image/png": "[encoded data removed]",
            "text/plain": [
              "<matplotlib.figure.Figure at 0x7fdbf04cc908>"
            ]
          },
          "metadata": {
            "tags": []
          }
        }
      ]
    },
    {
      "metadata": {
        "id": "ZBs7YmSII5yO",
        "colab_type": "code",
        "colab": {
          "base_uri": "https://localhost:8080/",
          "height": 143
        },
        "outputId": "4fe2c7cb-2850-42e8-e624-9129ade549c9"
      },
      "cell_type": "code",
      "source": [
        "train_mask.info()"
      ],
      "execution_count": 31,
      "outputs": [
        {
          "output_type": "stream",
          "text": [
            "<class 'pandas.core.frame.DataFrame'>\n",
            "RangeIndex: 4000 entries, 0 to 3999\n",
            "Data columns (total 2 columns):\n",
            "id          4000 non-null object\n",
            "rle_mask    2438 non-null object\n",
            "dtypes: object(2)\n",
            "memory usage: 62.6+ KB\n"
          ],
          "name": "stdout"
        }
      ]
    },
    {
      "metadata": {
        "id": "Z3tjBO5ft3sL",
        "colab_type": "code",
        "colab": {}
      },
      "cell_type": "code",
      "source": [
        "#Convert run length encoding to correct values\n",
        "def rleToMask(rlestring, height, width):\n",
        "  rows, cols = height, width\n",
        "  try:\n",
        "    rleNum = [int(numstr) for numstr in rlestring.split(\" \")]\n",
        "    rlePairs = np.array(rleNum).reshape(-1, 2)\n",
        "    img = np.zeros(rows*cols, dtype= np.uint8)\n",
        "    for idx, length in rlePairs:\n",
        "      idx -= 1\n",
        "      img[idx:idx+length]=255\n",
        "    \n",
        "    img = img.reshape(cols, rows).T\n",
        "    \n",
        "  except Exception as err:\n",
        "    img = np.zeros(rows*cols, dtype= np.uint8)\n",
        "    \n",
        "  return img\n"
      ],
      "execution_count": 0,
      "outputs": []
    },
    {
      "metadata": {
        "id": "Q3T4ZPpLnF8D",
        "colab_type": "code",
        "colab": {
          "base_uri": "https://localhost:8080/",
          "height": 143
        },
        "outputId": "1380c8d0-6788-4e41-b441-a085e86f2296"
      },
      "cell_type": "code",
      "source": [
        "import numpy as np\n",
        "a=range(15)\n",
        "print(np.array(a).reshape(5,3).T, np.array(a).reshape(3,5).T)\n"
      ],
      "execution_count": 33,
      "outputs": [
        {
          "output_type": "stream",
          "text": [
            "[[ 0  3  6  9 12]\n",
            " [ 1  4  7 10 13]\n",
            " [ 2  5  8 11 14]] [[ 0  5 10]\n",
            " [ 1  6 11]\n",
            " [ 2  7 12]\n",
            " [ 3  8 13]\n",
            " [ 4  9 14]]\n"
          ],
          "name": "stdout"
        }
      ]
    },
    {
      "metadata": {
        "id": "Icb_UvsDnOZF",
        "colab_type": "code",
        "colab": {}
      },
      "cell_type": "code",
      "source": [
        "#function for how salty a image is\n",
        "def saltProportion(imgarr):\n",
        "  try:\n",
        "    unique, counts = np.unique(imgarr, return_counts=True)\n",
        "    return counts[1]/10201.\n",
        "  except:\n",
        "    return 0.0\n",
        "  "
      ],
      "execution_count": 0,
      "outputs": []
    },
    {
      "metadata": {
        "id": "t1l1k3A2rMbW",
        "colab_type": "code",
        "colab": {
          "base_uri": "https://localhost:8080/",
          "height": 204
        },
        "outputId": "76a8d4ea-d0ba-405e-9f8b-886c1e25335c"
      },
      "cell_type": "code",
      "source": [
        "train_mask[\"mask\"] = train_mask[\"rle_mask\"].apply(lambda x: rleToMask(x, 101, 101))\n",
        "train_mask.head()\n",
        "train_mask[\"salt_proportion\"] = train_mask[\"mask\"].apply(lambda x: saltProportion(x))\n",
        "train_mask.head()"
      ],
      "execution_count": 35,
      "outputs": [
        {
          "output_type": "execute_result",
          "data": {
            "text/html": [
              "<div>\n",
              "<style scoped>\n",
              "    .dataframe tbody tr th:only-of-type {\n",
              "        vertical-align: middle;\n",
              "    }\n",
              "\n",
              "    .dataframe tbody tr th {\n",
              "        vertical-align: top;\n",
              "    }\n",
              "\n",
              "    .dataframe thead th {\n",
              "        text-align: right;\n",
              "    }\n",
              "</style>\n",
              "<table border=\"1\" class=\"dataframe\">\n",
              "  <thead>\n",
              "    <tr style=\"text-align: right;\">\n",
              "      <th></th>\n",
              "      <th>id</th>\n",
              "      <th>rle_mask</th>\n",
              "      <th>mask</th>\n",
              "      <th>salt_proportion</th>\n",
              "    </tr>\n",
              "  </thead>\n",
              "  <tbody>\n",
              "    <tr>\n",
              "      <th>0</th>\n",
              "      <td>575d24d81d</td>\n",
              "      <td>NaN</td>\n",
              "      <td>[0, 0, 0, 0, 0, 0, 0, 0, 0, 0, 0, 0, 0, 0, 0, ...</td>\n",
              "      <td>0.000000</td>\n",
              "    </tr>\n",
              "    <tr>\n",
              "      <th>1</th>\n",
              "      <td>a266a2a9df</td>\n",
              "      <td>5051 5151</td>\n",
              "      <td>[[0, 0, 0, 0, 0, 0, 0, 0, 0, 0, 0, 0, 0, 0, 0,...</td>\n",
              "      <td>0.504950</td>\n",
              "    </tr>\n",
              "    <tr>\n",
              "      <th>2</th>\n",
              "      <td>75efad62c1</td>\n",
              "      <td>9 93 109 94 210 94 310 95 411 95 511 96 612 96...</td>\n",
              "      <td>[[0, 0, 0, 0, 0, 0, 0, 0, 0, 0, 0, 0, 0, 0, 0,...</td>\n",
              "      <td>0.993334</td>\n",
              "    </tr>\n",
              "    <tr>\n",
              "      <th>3</th>\n",
              "      <td>34e51dba6a</td>\n",
              "      <td>48 54 149 54 251 53 353 52 455 51 557 50 659 4...</td>\n",
              "      <td>[[0, 0, 0, 0, 0, 0, 0, 0, 0, 0, 0, 0, 0, 0, 0,...</td>\n",
              "      <td>0.149201</td>\n",
              "    </tr>\n",
              "    <tr>\n",
              "      <th>4</th>\n",
              "      <td>4875705fb0</td>\n",
              "      <td>1111 1 1212 1 1313 1 1414 1 1514 2 1615 2 1716...</td>\n",
              "      <td>[[0, 0, 0, 0, 0, 0, 0, 0, 0, 0, 0, 0, 0, 0, 0,...</td>\n",
              "      <td>0.042839</td>\n",
              "    </tr>\n",
              "  </tbody>\n",
              "</table>\n",
              "</div>"
            ],
            "text/plain": [
              "           id                                           rle_mask  \\\n",
              "0  575d24d81d                                                NaN   \n",
              "1  a266a2a9df                                          5051 5151   \n",
              "2  75efad62c1  9 93 109 94 210 94 310 95 411 95 511 96 612 96...   \n",
              "3  34e51dba6a  48 54 149 54 251 53 353 52 455 51 557 50 659 4...   \n",
              "4  4875705fb0  1111 1 1212 1 1313 1 1414 1 1514 2 1615 2 1716...   \n",
              "\n",
              "                                                mask  salt_proportion  \n",
              "0  [0, 0, 0, 0, 0, 0, 0, 0, 0, 0, 0, 0, 0, 0, 0, ...         0.000000  \n",
              "1  [[0, 0, 0, 0, 0, 0, 0, 0, 0, 0, 0, 0, 0, 0, 0,...         0.504950  \n",
              "2  [[0, 0, 0, 0, 0, 0, 0, 0, 0, 0, 0, 0, 0, 0, 0,...         0.993334  \n",
              "3  [[0, 0, 0, 0, 0, 0, 0, 0, 0, 0, 0, 0, 0, 0, 0,...         0.149201  \n",
              "4  [[0, 0, 0, 0, 0, 0, 0, 0, 0, 0, 0, 0, 0, 0, 0,...         0.042839  "
            ]
          },
          "metadata": {
            "tags": []
          },
          "execution_count": 35
        }
      ]
    },
    {
      "metadata": {
        "id": "TrQK8x0fMivf",
        "colab_type": "code",
        "colab": {
          "base_uri": "https://localhost:8080/",
          "height": 593
        },
        "outputId": "43129306-ab24-49b2-8cef-3e1ce777852a"
      },
      "cell_type": "code",
      "source": [
        "r= train_mask.iloc[2,2]\n",
        "[(a[0], a[1]) for a in enumerate(r) if a[1].any()][15:19]"
      ],
      "execution_count": 36,
      "outputs": [
        {
          "output_type": "execute_result",
          "data": {
            "text/plain": [
              "[(15, array([255, 255, 255, 255, 255, 255, 255, 255, 255, 255, 255, 255, 255,\n",
              "         255, 255, 255, 255, 255, 255, 255, 255, 255, 255, 255, 255, 255,\n",
              "         255, 255, 255, 255, 255, 255, 255, 255, 255, 255, 255, 255, 255,\n",
              "         255, 255, 255, 255, 255, 255, 255, 255, 255, 255, 255, 255, 255,\n",
              "         255, 255, 255, 255, 255, 255, 255, 255, 255, 255, 255, 255, 255,\n",
              "         255, 255, 255, 255, 255, 255, 255, 255, 255, 255, 255, 255, 255,\n",
              "         255, 255, 255, 255, 255, 255, 255, 255, 255, 255, 255, 255, 255,\n",
              "         255, 255, 255, 255, 255, 255, 255, 255, 255, 255], dtype=uint8)),\n",
              " (16, array([255, 255, 255, 255, 255, 255, 255, 255, 255, 255, 255, 255, 255,\n",
              "         255, 255, 255, 255, 255, 255, 255, 255, 255, 255, 255, 255, 255,\n",
              "         255, 255, 255, 255, 255, 255, 255, 255, 255, 255, 255, 255, 255,\n",
              "         255, 255, 255, 255, 255, 255, 255, 255, 255, 255, 255, 255, 255,\n",
              "         255, 255, 255, 255, 255, 255, 255, 255, 255, 255, 255, 255, 255,\n",
              "         255, 255, 255, 255, 255, 255, 255, 255, 255, 255, 255, 255, 255,\n",
              "         255, 255, 255, 255, 255, 255, 255, 255, 255, 255, 255, 255, 255,\n",
              "         255, 255, 255, 255, 255, 255, 255, 255, 255, 255], dtype=uint8)),\n",
              " (17, array([255, 255, 255, 255, 255, 255, 255, 255, 255, 255, 255, 255, 255,\n",
              "         255, 255, 255, 255, 255, 255, 255, 255, 255, 255, 255, 255, 255,\n",
              "         255, 255, 255, 255, 255, 255, 255, 255, 255, 255, 255, 255, 255,\n",
              "         255, 255, 255, 255, 255, 255, 255, 255, 255, 255, 255, 255, 255,\n",
              "         255, 255, 255, 255, 255, 255, 255, 255, 255, 255, 255, 255, 255,\n",
              "         255, 255, 255, 255, 255, 255, 255, 255, 255, 255, 255, 255, 255,\n",
              "         255, 255, 255, 255, 255, 255, 255, 255, 255, 255, 255, 255, 255,\n",
              "         255, 255, 255, 255, 255, 255, 255, 255, 255, 255], dtype=uint8)),\n",
              " (18, array([255, 255, 255, 255, 255, 255, 255, 255, 255, 255, 255, 255, 255,\n",
              "         255, 255, 255, 255, 255, 255, 255, 255, 255, 255, 255, 255, 255,\n",
              "         255, 255, 255, 255, 255, 255, 255, 255, 255, 255, 255, 255, 255,\n",
              "         255, 255, 255, 255, 255, 255, 255, 255, 255, 255, 255, 255, 255,\n",
              "         255, 255, 255, 255, 255, 255, 255, 255, 255, 255, 255, 255, 255,\n",
              "         255, 255, 255, 255, 255, 255, 255, 255, 255, 255, 255, 255, 255,\n",
              "         255, 255, 255, 255, 255, 255, 255, 255, 255, 255, 255, 255, 255,\n",
              "         255, 255, 255, 255, 255, 255, 255, 255, 255, 255], dtype=uint8))]"
            ]
          },
          "metadata": {
            "tags": []
          },
          "execution_count": 36
        }
      ]
    },
    {
      "metadata": {
        "id": "Ybq6C4RmrN0b",
        "colab_type": "code",
        "colab": {
          "base_uri": "https://localhost:8080/",
          "height": 204
        },
        "outputId": "22f54887-7d70-4884-caa0-f0f125bde842"
      },
      "cell_type": "code",
      "source": [
        "#merge it\n",
        "merged = train_mask.merge(depth, how=\"left\")\n",
        "merged.head()"
      ],
      "execution_count": 37,
      "outputs": [
        {
          "output_type": "execute_result",
          "data": {
            "text/html": [
              "<div>\n",
              "<style scoped>\n",
              "    .dataframe tbody tr th:only-of-type {\n",
              "        vertical-align: middle;\n",
              "    }\n",
              "\n",
              "    .dataframe tbody tr th {\n",
              "        vertical-align: top;\n",
              "    }\n",
              "\n",
              "    .dataframe thead th {\n",
              "        text-align: right;\n",
              "    }\n",
              "</style>\n",
              "<table border=\"1\" class=\"dataframe\">\n",
              "  <thead>\n",
              "    <tr style=\"text-align: right;\">\n",
              "      <th></th>\n",
              "      <th>id</th>\n",
              "      <th>rle_mask</th>\n",
              "      <th>mask</th>\n",
              "      <th>salt_proportion</th>\n",
              "      <th>z</th>\n",
              "    </tr>\n",
              "  </thead>\n",
              "  <tbody>\n",
              "    <tr>\n",
              "      <th>0</th>\n",
              "      <td>575d24d81d</td>\n",
              "      <td>NaN</td>\n",
              "      <td>[0, 0, 0, 0, 0, 0, 0, 0, 0, 0, 0, 0, 0, 0, 0, ...</td>\n",
              "      <td>0.000000</td>\n",
              "      <td>843</td>\n",
              "    </tr>\n",
              "    <tr>\n",
              "      <th>1</th>\n",
              "      <td>a266a2a9df</td>\n",
              "      <td>5051 5151</td>\n",
              "      <td>[[0, 0, 0, 0, 0, 0, 0, 0, 0, 0, 0, 0, 0, 0, 0,...</td>\n",
              "      <td>0.504950</td>\n",
              "      <td>794</td>\n",
              "    </tr>\n",
              "    <tr>\n",
              "      <th>2</th>\n",
              "      <td>75efad62c1</td>\n",
              "      <td>9 93 109 94 210 94 310 95 411 95 511 96 612 96...</td>\n",
              "      <td>[[0, 0, 0, 0, 0, 0, 0, 0, 0, 0, 0, 0, 0, 0, 0,...</td>\n",
              "      <td>0.993334</td>\n",
              "      <td>468</td>\n",
              "    </tr>\n",
              "    <tr>\n",
              "      <th>3</th>\n",
              "      <td>34e51dba6a</td>\n",
              "      <td>48 54 149 54 251 53 353 52 455 51 557 50 659 4...</td>\n",
              "      <td>[[0, 0, 0, 0, 0, 0, 0, 0, 0, 0, 0, 0, 0, 0, 0,...</td>\n",
              "      <td>0.149201</td>\n",
              "      <td>727</td>\n",
              "    </tr>\n",
              "    <tr>\n",
              "      <th>4</th>\n",
              "      <td>4875705fb0</td>\n",
              "      <td>1111 1 1212 1 1313 1 1414 1 1514 2 1615 2 1716...</td>\n",
              "      <td>[[0, 0, 0, 0, 0, 0, 0, 0, 0, 0, 0, 0, 0, 0, 0,...</td>\n",
              "      <td>0.042839</td>\n",
              "      <td>797</td>\n",
              "    </tr>\n",
              "  </tbody>\n",
              "</table>\n",
              "</div>"
            ],
            "text/plain": [
              "           id                                           rle_mask  \\\n",
              "0  575d24d81d                                                NaN   \n",
              "1  a266a2a9df                                          5051 5151   \n",
              "2  75efad62c1  9 93 109 94 210 94 310 95 411 95 511 96 612 96...   \n",
              "3  34e51dba6a  48 54 149 54 251 53 353 52 455 51 557 50 659 4...   \n",
              "4  4875705fb0  1111 1 1212 1 1313 1 1414 1 1514 2 1615 2 1716...   \n",
              "\n",
              "                                                mask  salt_proportion    z  \n",
              "0  [0, 0, 0, 0, 0, 0, 0, 0, 0, 0, 0, 0, 0, 0, 0, ...         0.000000  843  \n",
              "1  [[0, 0, 0, 0, 0, 0, 0, 0, 0, 0, 0, 0, 0, 0, 0,...         0.504950  794  \n",
              "2  [[0, 0, 0, 0, 0, 0, 0, 0, 0, 0, 0, 0, 0, 0, 0,...         0.993334  468  \n",
              "3  [[0, 0, 0, 0, 0, 0, 0, 0, 0, 0, 0, 0, 0, 0, 0,...         0.149201  727  \n",
              "4  [[0, 0, 0, 0, 0, 0, 0, 0, 0, 0, 0, 0, 0, 0, 0,...         0.042839  797  "
            ]
          },
          "metadata": {
            "tags": []
          },
          "execution_count": 37
        }
      ]
    },
    {
      "metadata": {
        "id": "-Fmii0V3ESRO",
        "colab_type": "code",
        "colab": {
          "base_uri": "https://localhost:8080/",
          "height": 380
        },
        "outputId": "45c877df-e577-444a-b694-0fcc233ef416"
      },
      "cell_type": "code",
      "source": [
        "#show proportion of salt vs depth\n",
        "import matplotlib.pyplot as plt\n",
        "\n",
        "plt.figure(126)\n",
        "plt.scatter(merged.salt_proportion, merged.z)\n",
        "plt.title(\"Proportion of Salt vs Depth\")"
      ],
      "execution_count": 38,
      "outputs": [
        {
          "output_type": "execute_result",
          "data": {
            "text/plain": [
              "Text(0.5,1,'Proportion of Salt vs Depth')"
            ]
          },
          "metadata": {
            "tags": []
          },
          "execution_count": 38
        },
        {
          "output_type": "display_data",
          "data": {
            "image/png": "[encoded data removed]",
            "text/plain": [
              "<matplotlib.figure.Figure at 0x7fdbf03bba58>"
            ]
          },
          "metadata": {
            "tags": []
          }
        }
      ]
    },
    {
      "metadata": {
        "id": "4nCRgrMcQIzr",
        "colab_type": "code",
        "colab": {}
      },
      "cell_type": "code",
      "source": [
        "from keras.models import Model, load_model\n",
        "from keras.layers import Input\n",
        "from keras.layers.core import Lambda, RepeatVector, Reshape\n",
        "from keras.layers.convolutional import Conv2D, Conv2DTranspose\n",
        "from keras.layers.pooling import MaxPooling2D\n",
        "from keras.layers.merge import concatenate\n",
        "from keras.callbacks import EarlyStopping, ModelCheckpoint, ReduceLROnPlateau\n",
        "from keras import backend as K"
      ],
      "execution_count": 0,
      "outputs": []
    },
    {
      "metadata": {
        "id": "4WUljIHoZfTF",
        "colab_type": "code",
        "colab": {}
      },
      "cell_type": "code",
      "source": [
        "im_width, im_height = 128, 128\n",
        "border = 5\n",
        "im_chan = 2 #num of channels first is original second is cumsom(axis=0)\n",
        "n_features = 1\n",
        "#no train and test path we will use scikit learn test_train_split\n"
      ],
      "execution_count": 0,
      "outputs": []
    },
    {
      "metadata": {
        "id": "22-bMbi2eJhh",
        "colab_type": "code",
        "colab": {}
      },
      "cell_type": "code",
      "source": [
        "#Build Unet Model\n",
        "i_img = Input((im_height, im_width, im_chan), name=\"img\")\n",
        "i_feature = Input((n_features, ), name=\"feat\")\n",
        "\n",
        "c1 = Conv2D(8, (3,3), activation=\"relu\", padding=\"same\")(i_img)\n",
        "c1 = Conv2D(8, (3,3), activation=\"relu\", padding=\"same\")(c1)\n",
        "p1 = MaxPooling2D((2,2))(c1)\n",
        "\n",
        "c2 = Conv2D(16, (3,3), activation=\"relu\", padding=\"same\")(p1)\n",
        "c2 = Conv2D(16, (3,3), activation=\"relu\", padding=\"same\")(c2)\n",
        "p2 = MaxPooling2D((2,2))(c2)\n",
        "\n",
        "\n",
        "c3 = Conv2D(32, (3,3), activation=\"relu\", padding=\"same\")(p2)\n",
        "c3 = Conv2D(32, (3,3), activation=\"relu\", padding=\"same\")(c3)\n",
        "p3 = MaxPooling2D((2,2))(c3)\n",
        "\n",
        "\n",
        "c4 = Conv2D(64, (3,3), activation=\"relu\", padding=\"same\")(p3)\n",
        "c4 = Conv2D(64, (3,3), activation=\"relu\", padding=\"same\")(c4)\n",
        "p4 = MaxPooling2D((2,2))(c4)\n",
        "\n",
        "#Join features in depthest layer\n",
        "f_repeat = RepeatVector(8*8)(i_feature)\n",
        "f_conv = Reshape((8, 8, n_features))(f_repeat)\n",
        "p4_feat = concatenate([p4, f_conv], -1)\n",
        "\n",
        "d5 = Conv2D(128, (3,3), activation=\"relu\", padding=\"same\")(p4_feat)\n",
        "d5 = Conv2D(128, (3,3), activation=\"relu\", padding=\"same\")(d5)\n",
        "\n",
        "d4 = Conv2DTranspose(64, (2,2), strides=(2,2), padding=\"same\")(d5)\n",
        "d4 = concatenate([d4, c4])\n",
        "e4 = Conv2D(64, (3,3), activation=\"relu\", padding=\"same\")(d4)\n",
        "e4 = Conv2D(64, (3,3), activation=\"relu\", padding=\"same\")(e4)\n",
        "\n",
        "d3 = Conv2DTranspose(32, (2,2), strides=(2,2), padding=\"same\")(e4)\n",
        "d3 = concatenate([d3, c3])\n",
        "e3 = Conv2D(32, (3,3), activation=\"relu\", padding=\"same\")(d3)\n",
        "e3 = Conv2D(32, (3,3), activation=\"relu\", padding=\"same\")(e3)\n",
        "\n",
        "d2 = Conv2DTranspose(16, (2,2), strides=(2,2), padding=\"same\")(e3)\n",
        "d2 = concatenate([d2, c2])\n",
        "e2 = Conv2D(16, (3,3), activation=\"relu\", padding=\"same\")(d2)\n",
        "e2 = Conv2D(16, (3,3), activation=\"relu\", padding=\"same\")(e2)\n",
        "\n",
        "d1 = Conv2DTranspose(8, (2,2), strides=(2,2), padding=\"same\")(e2)\n",
        "d1 = concatenate([d1, c1], axis=3)\n",
        "e1 = Conv2D(8, (3,3), activation=\"relu\", padding=\"same\")(d1)\n",
        "e1 = Conv2D(8, (3,3), activation=\"relu\", padding=\"same\")(e1)"
      ],
      "execution_count": 0,
      "outputs": []
    },
    {
      "metadata": {
        "id": "mR9_XfoEel3U",
        "colab_type": "code",
        "colab": {
          "base_uri": "https://localhost:8080/",
          "height": 1529
        },
        "outputId": "4c6f120c-74ee-40d7-ce89-ed762de131ed"
      },
      "cell_type": "code",
      "source": [
        "outputs = Conv2D(1, (1,1), activation=\"sigmoid\")(e1)\n",
        "model = Model(inputs=[i_img, i_feature], outputs=[outputs])\n",
        "model.compile(optimizer=\"adam\", loss=\"binary_crossentropy\")\n",
        "model.summary()"
      ],
      "execution_count": 55,
      "outputs": [
        {
          "output_type": "stream",
          "text": [
            "__________________________________________________________________________________________________\n",
            "Layer (type)                    Output Shape         Param #     Connected to                     \n",
            "==================================================================================================\n",
            "img (InputLayer)                (None, 128, 128, 2)  0                                            \n",
            "__________________________________________________________________________________________________\n",
            "conv2d_41 (Conv2D)              (None, 128, 128, 8)  152         img[0][0]                        \n",
            "__________________________________________________________________________________________________\n",
            "conv2d_42 (Conv2D)              (None, 128, 128, 8)  584         conv2d_41[0][0]                  \n",
            "__________________________________________________________________________________________________\n",
            "max_pooling2d_13 (MaxPooling2D) (None, 64, 64, 8)    0           conv2d_42[0][0]                  \n",
            "__________________________________________________________________________________________________\n",
            "conv2d_43 (Conv2D)              (None, 64, 64, 16)   1168        max_pooling2d_13[0][0]           \n",
            "__________________________________________________________________________________________________\n",
            "conv2d_44 (Conv2D)              (None, 64, 64, 16)   2320        conv2d_43[0][0]                  \n",
            "__________________________________________________________________________________________________\n",
            "max_pooling2d_14 (MaxPooling2D) (None, 32, 32, 16)   0           conv2d_44[0][0]                  \n",
            "__________________________________________________________________________________________________\n",
            "conv2d_45 (Conv2D)              (None, 32, 32, 32)   4640        max_pooling2d_14[0][0]           \n",
            "__________________________________________________________________________________________________\n",
            "conv2d_46 (Conv2D)              (None, 32, 32, 32)   9248        conv2d_45[0][0]                  \n",
            "__________________________________________________________________________________________________\n",
            "max_pooling2d_15 (MaxPooling2D) (None, 16, 16, 32)   0           conv2d_46[0][0]                  \n",
            "__________________________________________________________________________________________________\n",
            "conv2d_47 (Conv2D)              (None, 16, 16, 64)   18496       max_pooling2d_15[0][0]           \n",
            "__________________________________________________________________________________________________\n",
            "feat (InputLayer)               (None, 1)            0                                            \n",
            "__________________________________________________________________________________________________\n",
            "conv2d_48 (Conv2D)              (None, 16, 16, 64)   36928       conv2d_47[0][0]                  \n",
            "__________________________________________________________________________________________________\n",
            "repeat_vector_4 (RepeatVector)  (None, 64, 1)        0           feat[0][0]                       \n",
            "__________________________________________________________________________________________________\n",
            "max_pooling2d_16 (MaxPooling2D) (None, 8, 8, 64)     0           conv2d_48[0][0]                  \n",
            "__________________________________________________________________________________________________\n",
            "reshape_3 (Reshape)             (None, 8, 8, 1)      0           repeat_vector_4[0][0]            \n",
            "__________________________________________________________________________________________________\n",
            "concatenate_8 (Concatenate)     (None, 8, 8, 65)     0           max_pooling2d_16[0][0]           \n",
            "                                                                 reshape_3[0][0]                  \n",
            "__________________________________________________________________________________________________\n",
            "conv2d_49 (Conv2D)              (None, 8, 8, 128)    75008       concatenate_8[0][0]              \n",
            "__________________________________________________________________________________________________\n",
            "conv2d_50 (Conv2D)              (None, 8, 8, 128)    147584      conv2d_49[0][0]                  \n",
            "__________________________________________________________________________________________________\n",
            "conv2d_transpose_6 (Conv2DTrans (None, 16, 16, 64)   32832       conv2d_50[0][0]                  \n",
            "__________________________________________________________________________________________________\n",
            "concatenate_9 (Concatenate)     (None, 16, 16, 128)  0           conv2d_transpose_6[0][0]         \n",
            "                                                                 conv2d_48[0][0]                  \n",
            "__________________________________________________________________________________________________\n",
            "conv2d_51 (Conv2D)              (None, 16, 16, 64)   73792       concatenate_9[0][0]              \n",
            "__________________________________________________________________________________________________\n",
            "conv2d_52 (Conv2D)              (None, 16, 16, 64)   36928       conv2d_51[0][0]                  \n",
            "__________________________________________________________________________________________________\n",
            "conv2d_transpose_7 (Conv2DTrans (None, 32, 32, 32)   8224        conv2d_52[0][0]                  \n",
            "__________________________________________________________________________________________________\n",
            "concatenate_10 (Concatenate)    (None, 32, 32, 64)   0           conv2d_transpose_7[0][0]         \n",
            "                                                                 conv2d_46[0][0]                  \n",
            "__________________________________________________________________________________________________\n",
            "conv2d_53 (Conv2D)              (None, 32, 32, 32)   18464       concatenate_10[0][0]             \n",
            "__________________________________________________________________________________________________\n",
            "conv2d_54 (Conv2D)              (None, 32, 32, 32)   9248        conv2d_53[0][0]                  \n",
            "__________________________________________________________________________________________________\n",
            "conv2d_transpose_8 (Conv2DTrans (None, 64, 64, 16)   2064        conv2d_54[0][0]                  \n",
            "__________________________________________________________________________________________________\n",
            "concatenate_11 (Concatenate)    (None, 64, 64, 32)   0           conv2d_transpose_8[0][0]         \n",
            "                                                                 conv2d_44[0][0]                  \n",
            "__________________________________________________________________________________________________\n",
            "conv2d_55 (Conv2D)              (None, 64, 64, 16)   4624        concatenate_11[0][0]             \n",
            "__________________________________________________________________________________________________\n",
            "conv2d_56 (Conv2D)              (None, 64, 64, 16)   2320        conv2d_55[0][0]                  \n",
            "__________________________________________________________________________________________________\n",
            "conv2d_transpose_9 (Conv2DTrans (None, 128, 128, 8)  520         conv2d_56[0][0]                  \n",
            "__________________________________________________________________________________________________\n",
            "concatenate_12 (Concatenate)    (None, 128, 128, 16) 0           conv2d_transpose_9[0][0]         \n",
            "                                                                 conv2d_42[0][0]                  \n",
            "__________________________________________________________________________________________________\n",
            "conv2d_57 (Conv2D)              (None, 128, 128, 8)  1160        concatenate_12[0][0]             \n",
            "__________________________________________________________________________________________________\n",
            "conv2d_58 (Conv2D)              (None, 128, 128, 8)  584         conv2d_57[0][0]                  \n",
            "__________________________________________________________________________________________________\n",
            "conv2d_59 (Conv2D)              (None, 128, 128, 1)  9           conv2d_58[0][0]                  \n",
            "==================================================================================================\n",
            "Total params: 486,897\n",
            "Trainable params: 486,897\n",
            "Non-trainable params: 0\n",
            "__________________________________________________________________________________________________\n"
          ],
          "name": "stdout"
        }
      ]
    },
    {
      "metadata": {
        "id": "aj9UIo--kKMt",
        "colab_type": "code",
        "colab": {}
      },
      "cell_type": "code",
      "source": [
        "#Model Train\n",
        "import sys\n",
        "from tqdm import tqdm\n",
        "from keras.preprocessing.image import ImageDataGenerator, img_to_array, array_to_img, load_img\n",
        "from skimage.transform import resize\n",
        "\n",
        "train_ids = next(os.walk(train_path+\"/images\"))[2]"
      ],
      "execution_count": 0,
      "outputs": []
    },
    {
      "metadata": {
        "id": "OyGr_D-loH26",
        "colab_type": "code",
        "colab": {}
      },
      "cell_type": "code",
      "source": [
        "train_ids = next(os.walk(os.path.join(train_path, \"images\")))[2]"
      ],
      "execution_count": 0,
      "outputs": []
    },
    {
      "metadata": {
        "id": "h-zJmt-CoJcm",
        "colab_type": "code",
        "colab": {
          "base_uri": "https://localhost:8080/",
          "height": 71
        },
        "outputId": "306fff92-8bf1-4109-a8a2-ea6386210e27"
      },
      "cell_type": "code",
      "source": [
        "# os.walk(os.path.join(train_path, \"images\"))\n",
        "# train_ids\n",
        "X = np.zeros((len(train_ids), im_height, im_width, im_chan), dtype=np.float32)\n",
        "y = np.zeros((len(train_ids), im_height, im_width, 1), dtype=np.float32)\n",
        "\n",
        "X_feat = np.zeros((len(train_ids), n_features), dtype=np.float32)\n",
        "\n",
        "print(\"Getting and resizing trained images and masks\")\n",
        "sys.stdout.flush()\n",
        "\n",
        "for n, id_ in tqdm(enumerate(train_ids), total=len(train_ids)):\n",
        "  path = train_path\n",
        "  img = load_img(path+\"/images/\"+id_, grayscale=True)\n",
        "  x_img = img_to_array(img)\n",
        "  x_img = resize(x_img, (128, 128, 1), mode=\"constant\", preserve_range=True)\n",
        "  \n",
        "  #create cumsum x\n",
        "  xcentermean = x_img[border:-border, border:-border].mean()\n",
        "  xcsum = (np.float32(x_img)-xcentermean).cumsum(axis=0)\n",
        "  xcsum -= xcsum[border:-border, border:-border].mean()\n",
        "  xcsum /= max(1e-3, xcsum[border:-border, border:-border].std())\n",
        "  \n",
        "  #Load Y\n",
        "  mask = img_to_array(load_img(path+\"/masks/\"+id_, grayscale=True))\n",
        "  mask = resize(mask, (128, 128, 1), mode=\"constant\", preserve_range=True)\n",
        "  \n",
        "  #Save images\n",
        "  X[n, ..., 0] = x_img.squeeze()/255\n",
        "  X[n, ..., 1] = xcsum.squeeze()\n",
        "  \n",
        "  y[n] = mask/255\n",
        "  \n",
        "  \n",
        "print(\"Done!\")"
      ],
      "execution_count": 75,
      "outputs": [
        {
          "output_type": "stream",
          "text": [
            "Getting and resizing trained images and masks\n"
          ],
          "name": "stdout"
        },
        {
          "output_type": "stream",
          "text": [
            "100%|██████████| 4000/4000 [00:21<00:00, 185.87it/s]"
          ],
          "name": "stderr"
        },
        {
          "output_type": "stream",
          "text": [
            "Done!\n"
          ],
          "name": "stdout"
        },
        {
          "output_type": "stream",
          "text": [
            "\n"
          ],
          "name": "stderr"
        }
      ]
    },
    {
      "metadata": {
        "id": "LNwVVpZ3oQ8l",
        "colab_type": "code",
        "colab": {}
      },
      "cell_type": "code",
      "source": [
        "from sklearn.model_selection import train_test_split\n",
        "\n",
        "X_train, X_valid, X_feat_train, X_feat_valid, y_train, y_valid = train_test_split(X, X_feat, y, test_size=0.15, random_state=42)"
      ],
      "execution_count": 0,
      "outputs": []
    },
    {
      "metadata": {
        "id": "J4gLEvPIoTth",
        "colab_type": "code",
        "colab": {
          "base_uri": "https://localhost:8080/",
          "height": 2717
        },
        "outputId": "482b493a-6429-4b3b-9a15-61dae6ceebe3"
      },
      "cell_type": "code",
      "source": [
        "callbacks = [\n",
        "    EarlyStopping(patience=5, verbose=1),\n",
        "    ReduceLROnPlateau(patience=3, verbose=1),\n",
        "    ModelCheckpoint('model-tgs-salt-1.h5', verbose=1, save_best_only=True, save_weights_only=True)\n",
        "]\n",
        "\n",
        "results = model.fit({'img': X_train, 'feat': X_feat_train}, y_train, batch_size=16, epochs=100, callbacks=callbacks,\n",
        "                    validation_data=({'img': X_valid, 'feat': X_feat_valid}, y_valid))"
      ],
      "execution_count": 77,
      "outputs": [
        {
          "output_type": "stream",
          "text": [
            "Train on 3400 samples, validate on 600 samples\n",
            "Epoch 1/100\n",
            "3400/3400 [==============================] - 20s 6ms/step - loss: 0.5790 - val_loss: 0.5239\n",
            "\n",
            "Epoch 00001: val_loss improved from inf to 0.52390, saving model to model-tgs-salt-1.h5\n",
            "Epoch 2/100\n",
            "3400/3400 [==============================] - 16s 5ms/step - loss: 0.4591 - val_loss: 0.3764\n",
            "\n",
            "Epoch 00002: val_loss improved from 0.52390 to 0.37643, saving model to model-tgs-salt-1.h5\n",
            "Epoch 3/100\n",
            "3400/3400 [==============================] - 16s 5ms/step - loss: 0.3797 - val_loss: 0.3215\n",
            "\n",
            "Epoch 00003: val_loss improved from 0.37643 to 0.32154, saving model to model-tgs-salt-1.h5\n",
            "Epoch 4/100\n",
            "3400/3400 [==============================] - 16s 5ms/step - loss: 0.3146 - val_loss: 0.3124\n",
            "\n",
            "Epoch 00004: val_loss improved from 0.32154 to 0.31238, saving model to model-tgs-salt-1.h5\n",
            "Epoch 5/100\n",
            "3400/3400 [==============================] - 16s 5ms/step - loss: 0.2695 - val_loss: 0.2579\n",
            "\n",
            "Epoch 00005: val_loss improved from 0.31238 to 0.25791, saving model to model-tgs-salt-1.h5\n",
            "Epoch 6/100\n",
            "3400/3400 [==============================] - 16s 5ms/step - loss: 0.2570 - val_loss: 0.2684\n",
            "\n",
            "Epoch 00006: val_loss did not improve from 0.25791\n",
            "Epoch 7/100\n",
            "3400/3400 [==============================] - 16s 5ms/step - loss: 0.2348 - val_loss: 0.2191\n",
            "\n",
            "Epoch 00007: val_loss improved from 0.25791 to 0.21914, saving model to model-tgs-salt-1.h5\n",
            "Epoch 8/100\n",
            "3400/3400 [==============================] - 16s 5ms/step - loss: 0.2278 - val_loss: 0.2353\n",
            "\n",
            "Epoch 00008: val_loss did not improve from 0.21914\n",
            "Epoch 9/100\n",
            "3400/3400 [==============================] - 16s 5ms/step - loss: 0.2279 - val_loss: 0.2460\n",
            "\n",
            "Epoch 00009: val_loss did not improve from 0.21914\n",
            "Epoch 10/100\n",
            "3400/3400 [==============================] - 16s 5ms/step - loss: 0.2172 - val_loss: 0.2371\n",
            "\n",
            "Epoch 00010: ReduceLROnPlateau reducing learning rate to 0.00010000000474974513.\n",
            "\n",
            "Epoch 00010: val_loss did not improve from 0.21914\n",
            "Epoch 11/100\n",
            "3400/3400 [==============================] - 16s 5ms/step - loss: 0.1867 - val_loss: 0.2014\n",
            "\n",
            "Epoch 00011: val_loss improved from 0.21914 to 0.20137, saving model to model-tgs-salt-1.h5\n",
            "Epoch 12/100\n",
            "3400/3400 [==============================] - 16s 5ms/step - loss: 0.1813 - val_loss: 0.2013\n",
            "\n",
            "Epoch 00012: val_loss improved from 0.20137 to 0.20131, saving model to model-tgs-salt-1.h5\n",
            "Epoch 13/100\n",
            "3400/3400 [==============================] - 16s 5ms/step - loss: 0.1781 - val_loss: 0.1970\n",
            "\n",
            "Epoch 00013: val_loss improved from 0.20131 to 0.19701, saving model to model-tgs-salt-1.h5\n",
            "Epoch 14/100\n",
            "3400/3400 [==============================] - 16s 5ms/step - loss: 0.1758 - val_loss: 0.1981\n",
            "\n",
            "Epoch 00014: val_loss did not improve from 0.19701\n",
            "Epoch 15/100\n",
            "3400/3400 [==============================] - 16s 5ms/step - loss: 0.1740 - val_loss: 0.1938\n",
            "\n",
            "Epoch 00015: val_loss improved from 0.19701 to 0.19376, saving model to model-tgs-salt-1.h5\n",
            "Epoch 16/100\n",
            "3400/3400 [==============================] - 16s 5ms/step - loss: 0.1722 - val_loss: 0.1936\n",
            "\n",
            "Epoch 00016: val_loss improved from 0.19376 to 0.19355, saving model to model-tgs-salt-1.h5\n",
            "Epoch 17/100\n",
            "3400/3400 [==============================] - 16s 5ms/step - loss: 0.1698 - val_loss: 0.1962\n",
            "\n",
            "Epoch 00017: val_loss did not improve from 0.19355\n",
            "Epoch 18/100\n",
            "3400/3400 [==============================] - 16s 5ms/step - loss: 0.1681 - val_loss: 0.1925\n",
            "\n",
            "Epoch 00018: val_loss improved from 0.19355 to 0.19252, saving model to model-tgs-salt-1.h5\n",
            "Epoch 19/100\n",
            "3400/3400 [==============================] - 16s 5ms/step - loss: 0.1670 - val_loss: 0.1960\n",
            "\n",
            "Epoch 00019: val_loss did not improve from 0.19252\n",
            "Epoch 20/100\n",
            "3400/3400 [==============================] - 16s 5ms/step - loss: 0.1657 - val_loss: 0.1964\n",
            "\n",
            "Epoch 00020: val_loss did not improve from 0.19252\n",
            "Epoch 21/100\n",
            "3400/3400 [==============================] - 16s 5ms/step - loss: 0.1636 - val_loss: 0.1905\n",
            "\n",
            "Epoch 00021: val_loss improved from 0.19252 to 0.19048, saving model to model-tgs-salt-1.h5\n",
            "Epoch 22/100\n",
            "3400/3400 [==============================] - 16s 5ms/step - loss: 0.1617 - val_loss: 0.1897\n",
            "\n",
            "Epoch 00022: val_loss improved from 0.19048 to 0.18966, saving model to model-tgs-salt-1.h5\n",
            "Epoch 23/100\n",
            "3400/3400 [==============================] - 16s 5ms/step - loss: 0.1596 - val_loss: 0.1887\n",
            "\n",
            "Epoch 00023: val_loss improved from 0.18966 to 0.18872, saving model to model-tgs-salt-1.h5\n",
            "Epoch 24/100\n",
            "3400/3400 [==============================] - 16s 5ms/step - loss: 0.1593 - val_loss: 0.1904\n",
            "\n",
            "Epoch 00024: val_loss did not improve from 0.18872\n",
            "Epoch 25/100\n",
            "3400/3400 [==============================] - 16s 5ms/step - loss: 0.1566 - val_loss: 0.1908\n",
            "\n",
            "Epoch 00025: val_loss did not improve from 0.18872\n",
            "Epoch 26/100\n",
            "3400/3400 [==============================] - 16s 5ms/step - loss: 0.1556 - val_loss: 0.1917\n",
            "\n",
            "Epoch 00026: ReduceLROnPlateau reducing learning rate to 1.0000000474974514e-05.\n",
            "\n",
            "Epoch 00026: val_loss did not improve from 0.18872\n",
            "Epoch 27/100\n",
            "3400/3400 [==============================] - 16s 5ms/step - loss: 0.1496 - val_loss: 0.1885\n",
            "\n",
            "Epoch 00027: val_loss improved from 0.18872 to 0.18850, saving model to model-tgs-salt-1.h5\n",
            "Epoch 28/100\n",
            "3400/3400 [==============================] - 16s 5ms/step - loss: 0.1486 - val_loss: 0.1876\n",
            "\n",
            "Epoch 00028: val_loss improved from 0.18850 to 0.18760, saving model to model-tgs-salt-1.h5\n",
            "Epoch 29/100\n",
            "3400/3400 [==============================] - 16s 5ms/step - loss: 0.1482 - val_loss: 0.1865\n",
            "\n",
            "Epoch 00029: val_loss improved from 0.18760 to 0.18647, saving model to model-tgs-salt-1.h5\n",
            "Epoch 30/100\n",
            "3400/3400 [==============================] - 16s 5ms/step - loss: 0.1481 - val_loss: 0.1864\n",
            "\n",
            "Epoch 00030: val_loss improved from 0.18647 to 0.18643, saving model to model-tgs-salt-1.h5\n",
            "Epoch 31/100\n",
            "3400/3400 [==============================] - 16s 5ms/step - loss: 0.1478 - val_loss: 0.1871\n",
            "\n",
            "Epoch 00031: val_loss did not improve from 0.18643\n",
            "Epoch 32/100\n",
            "3400/3400 [==============================] - 16s 5ms/step - loss: 0.1475 - val_loss: 0.1871\n",
            "\n",
            "Epoch 00032: ReduceLROnPlateau reducing learning rate to 1.0000000656873453e-06.\n",
            "\n",
            "Epoch 00032: val_loss did not improve from 0.18643\n",
            "Epoch 33/100\n",
            "3400/3400 [==============================] - 16s 5ms/step - loss: 0.1467 - val_loss: 0.1871\n",
            "\n",
            "Epoch 00033: val_loss did not improve from 0.18643\n",
            "Epoch 34/100\n",
            "3400/3400 [==============================] - 16s 5ms/step - loss: 0.1466 - val_loss: 0.1871\n",
            "\n",
            "Epoch 00034: val_loss did not improve from 0.18643\n",
            "Epoch 35/100\n",
            "3400/3400 [==============================] - 16s 5ms/step - loss: 0.1466 - val_loss: 0.1871\n",
            "\n",
            "Epoch 00035: ReduceLROnPlateau reducing learning rate to 1.0000001111620805e-07.\n",
            "\n",
            "Epoch 00035: val_loss did not improve from 0.18643\n",
            "Epoch 00035: early stopping\n"
          ],
          "name": "stdout"
        }
      ]
    },
    {
      "metadata": {
        "id": "mt7TCo-EyVwA",
        "colab_type": "code",
        "colab": {}
      },
      "cell_type": "code",
      "source": [
        ""
      ],
      "execution_count": 0,
      "outputs": []
    }
  ]
}